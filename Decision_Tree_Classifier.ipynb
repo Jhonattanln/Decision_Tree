{
 "cells": [
  {
   "cell_type": "markdown",
   "metadata": {},
   "source": [
    "## Randon forest aplicado a previsão de retornos"
   ]
  },
  {
   "cell_type": "code",
   "execution_count": 136,
   "metadata": {},
   "outputs": [],
   "source": [
    "### Importando bibliotecas\n",
    "import pandas as pd\n",
    "import numpy as np\n",
    "import ta  ### biblioteca para analise de indicadores técnicos\n",
    "from sklearn.tree import DecisionTreeClassifier\n",
    "from sklearn.model_selection import train_test_split\n",
    "from sklearn.metrics import accuracy_score\n",
    "from sklearn.metrics import classification_report\n",
    "from sklearn.preprocessing import StandardScaler\n",
    "from sklearn.pipeline import Pipeline\n",
    "from sklearn.model_selection import GridSearchCV\n",
    "import matplotlib.pyplot as plt\n"
   ]
  },
  {
   "cell_type": "code",
   "execution_count": 137,
   "metadata": {},
   "outputs": [
    {
     "data": {
      "text/html": [
       "<div>\n",
       "<style scoped>\n",
       "    .dataframe tbody tr th:only-of-type {\n",
       "        vertical-align: middle;\n",
       "    }\n",
       "\n",
       "    .dataframe tbody tr th {\n",
       "        vertical-align: top;\n",
       "    }\n",
       "\n",
       "    .dataframe thead th {\n",
       "        text-align: right;\n",
       "    }\n",
       "</style>\n",
       "<table border=\"1\" class=\"dataframe\">\n",
       "  <thead>\n",
       "    <tr style=\"text-align: right;\">\n",
       "      <th></th>\n",
       "      <th>Q Negs</th>\n",
       "      <th>Q Títs</th>\n",
       "      <th>Volume</th>\n",
       "      <th>Fechamento</th>\n",
       "      <th>Abertura</th>\n",
       "      <th>Mínimo</th>\n",
       "      <th>Máximo</th>\n",
       "      <th>Médio</th>\n",
       "    </tr>\n",
       "    <tr>\n",
       "      <th>Data</th>\n",
       "      <th></th>\n",
       "      <th></th>\n",
       "      <th></th>\n",
       "      <th></th>\n",
       "      <th></th>\n",
       "      <th></th>\n",
       "      <th></th>\n",
       "      <th></th>\n",
       "    </tr>\n",
       "  </thead>\n",
       "  <tbody>\n",
       "    <tr>\n",
       "      <th>2010-01-04</th>\n",
       "      <td>13531</td>\n",
       "      <td>13303600</td>\n",
       "      <td>493660216</td>\n",
       "      <td>23.135237</td>\n",
       "      <td>22.905869</td>\n",
       "      <td>22.825280</td>\n",
       "      <td>23.135237</td>\n",
       "      <td>23.005055</td>\n",
       "    </tr>\n",
       "    <tr>\n",
       "      <th>2010-01-05</th>\n",
       "      <td>22782</td>\n",
       "      <td>21396400</td>\n",
       "      <td>794327759</td>\n",
       "      <td>22.936865</td>\n",
       "      <td>23.172432</td>\n",
       "      <td>22.812881</td>\n",
       "      <td>23.203428</td>\n",
       "      <td>23.011254</td>\n",
       "    </tr>\n",
       "    <tr>\n",
       "      <th>2010-01-06</th>\n",
       "      <td>18647</td>\n",
       "      <td>18720600</td>\n",
       "      <td>697345692</td>\n",
       "      <td>23.246822</td>\n",
       "      <td>22.812881</td>\n",
       "      <td>22.812881</td>\n",
       "      <td>23.246822</td>\n",
       "      <td>23.091843</td>\n",
       "    </tr>\n",
       "    <tr>\n",
       "      <th>2010-01-07</th>\n",
       "      <td>12720</td>\n",
       "      <td>10964600</td>\n",
       "      <td>408386356</td>\n",
       "      <td>23.029852</td>\n",
       "      <td>23.104242</td>\n",
       "      <td>22.980259</td>\n",
       "      <td>23.215826</td>\n",
       "      <td>23.091843</td>\n",
       "    </tr>\n",
       "    <tr>\n",
       "      <th>2010-01-08</th>\n",
       "      <td>14192</td>\n",
       "      <td>14624200</td>\n",
       "      <td>542061948</td>\n",
       "      <td>22.905869</td>\n",
       "      <td>23.036051</td>\n",
       "      <td>22.850076</td>\n",
       "      <td>23.178631</td>\n",
       "      <td>22.980259</td>\n",
       "    </tr>\n",
       "  </tbody>\n",
       "</table>\n",
       "</div>"
      ],
      "text/plain": [
       "            Q Negs    Q Títs     Volume  Fechamento   Abertura     Mínimo  \\\n",
       "Data                                                                        \n",
       "2010-01-04   13531  13303600  493660216   23.135237  22.905869  22.825280   \n",
       "2010-01-05   22782  21396400  794327759   22.936865  23.172432  22.812881   \n",
       "2010-01-06   18647  18720600  697345692   23.246822  22.812881  22.812881   \n",
       "2010-01-07   12720  10964600  408386356   23.029852  23.104242  22.980259   \n",
       "2010-01-08   14192  14624200  542061948   22.905869  23.036051  22.850076   \n",
       "\n",
       "               Máximo      Médio  \n",
       "Data                              \n",
       "2010-01-04  23.135237  23.005055  \n",
       "2010-01-05  23.203428  23.011254  \n",
       "2010-01-06  23.246822  23.091843  \n",
       "2010-01-07  23.215826  23.091843  \n",
       "2010-01-08  23.178631  22.980259  "
      ]
     },
     "execution_count": 137,
     "metadata": {},
     "output_type": "execute_result"
    }
   ],
   "source": [
    "df = pd.read_excel('economatica.xlsx', parse_dates=True, index_col=0, skiprows=3)\n",
    "df.rename(columns={'Volume$':'Volume'}, inplace=True)\n",
    "df.head()"
   ]
  },
  {
   "cell_type": "markdown",
   "metadata": {},
   "source": [
    "#### Criando features"
   ]
  },
  {
   "cell_type": "code",
   "execution_count": 138,
   "metadata": {},
   "outputs": [],
   "source": [
    "df['Retornos'] = df.Fechamento.pct_change() ## retornos\n",
    "df['Kama'] = ta.momentum.KAMAIndicator(close=df.Fechamento, window=21).kama() ## indicador Kama\n",
    "df['ROC'] = ta.momentum.ROCIndicator(close=df.Fechamento, window=12).roc()\n",
    "df['RSI'] = ta.momentum.RSIIndicator(close=df.Fechamento, window=14).rsi()\n",
    "df['Stoch'] = ta.momentum.StochasticOscillator(close=df.Fechamento, high=df.Máximo, low=df.Mínimo, window=14, smooth_window=3).stoch()\n",
    "df['Chaikin_money'] = ta.volume.ChaikinMoneyFlowIndicator(high=df.Máximo, low=df.Mínimo, close=df.Fechamento, volume=df.Volume, window=20).chaikin_money_flow()\n",
    "df['Force_index'] = ta.volume.ForceIndexIndicator(close=df.Fechamento, volume=df.Volume, window=13).force_index() \n",
    "df['Normal'] = (df.Fechamento - df.Mínimo) / (df.Máximo - df.Mínimo) ## mede a % de quanto um dia fechou da máxima ou mínima"
   ]
  },
  {
   "cell_type": "code",
   "execution_count": 139,
   "metadata": {},
   "outputs": [
    {
     "data": {
      "text/html": [
       "<div>\n",
       "<style scoped>\n",
       "    .dataframe tbody tr th:only-of-type {\n",
       "        vertical-align: middle;\n",
       "    }\n",
       "\n",
       "    .dataframe tbody tr th {\n",
       "        vertical-align: top;\n",
       "    }\n",
       "\n",
       "    .dataframe thead th {\n",
       "        text-align: right;\n",
       "    }\n",
       "</style>\n",
       "<table border=\"1\" class=\"dataframe\">\n",
       "  <thead>\n",
       "    <tr style=\"text-align: right;\">\n",
       "      <th></th>\n",
       "      <th>Q Negs</th>\n",
       "      <th>Q Títs</th>\n",
       "      <th>Volume</th>\n",
       "      <th>Fechamento</th>\n",
       "      <th>Abertura</th>\n",
       "      <th>Mínimo</th>\n",
       "      <th>Máximo</th>\n",
       "      <th>Médio</th>\n",
       "      <th>Retornos</th>\n",
       "      <th>Kama</th>\n",
       "      <th>ROC</th>\n",
       "      <th>RSI</th>\n",
       "      <th>Stoch</th>\n",
       "      <th>Chaikin_money</th>\n",
       "      <th>Force_index</th>\n",
       "      <th>Normal</th>\n",
       "    </tr>\n",
       "    <tr>\n",
       "      <th>Data</th>\n",
       "      <th></th>\n",
       "      <th></th>\n",
       "      <th></th>\n",
       "      <th></th>\n",
       "      <th></th>\n",
       "      <th></th>\n",
       "      <th></th>\n",
       "      <th></th>\n",
       "      <th></th>\n",
       "      <th></th>\n",
       "      <th></th>\n",
       "      <th></th>\n",
       "      <th></th>\n",
       "      <th></th>\n",
       "      <th></th>\n",
       "      <th></th>\n",
       "    </tr>\n",
       "  </thead>\n",
       "  <tbody>\n",
       "    <tr>\n",
       "      <th>2010-01-04</th>\n",
       "      <td>13531</td>\n",
       "      <td>13303600</td>\n",
       "      <td>493660216</td>\n",
       "      <td>23.135237</td>\n",
       "      <td>22.905869</td>\n",
       "      <td>22.825280</td>\n",
       "      <td>23.135237</td>\n",
       "      <td>23.005055</td>\n",
       "      <td>NaN</td>\n",
       "      <td>NaN</td>\n",
       "      <td>NaN</td>\n",
       "      <td>NaN</td>\n",
       "      <td>NaN</td>\n",
       "      <td>NaN</td>\n",
       "      <td>NaN</td>\n",
       "      <td>1.000000</td>\n",
       "    </tr>\n",
       "    <tr>\n",
       "      <th>2010-01-05</th>\n",
       "      <td>22782</td>\n",
       "      <td>21396400</td>\n",
       "      <td>794327759</td>\n",
       "      <td>22.936865</td>\n",
       "      <td>23.172432</td>\n",
       "      <td>22.812881</td>\n",
       "      <td>23.203428</td>\n",
       "      <td>23.011254</td>\n",
       "      <td>-0.008574</td>\n",
       "      <td>NaN</td>\n",
       "      <td>NaN</td>\n",
       "      <td>NaN</td>\n",
       "      <td>NaN</td>\n",
       "      <td>NaN</td>\n",
       "      <td>NaN</td>\n",
       "      <td>0.317460</td>\n",
       "    </tr>\n",
       "    <tr>\n",
       "      <th>2010-01-06</th>\n",
       "      <td>18647</td>\n",
       "      <td>18720600</td>\n",
       "      <td>697345692</td>\n",
       "      <td>23.246822</td>\n",
       "      <td>22.812881</td>\n",
       "      <td>22.812881</td>\n",
       "      <td>23.246822</td>\n",
       "      <td>23.091843</td>\n",
       "      <td>0.013514</td>\n",
       "      <td>NaN</td>\n",
       "      <td>NaN</td>\n",
       "      <td>NaN</td>\n",
       "      <td>NaN</td>\n",
       "      <td>NaN</td>\n",
       "      <td>NaN</td>\n",
       "      <td>1.000000</td>\n",
       "    </tr>\n",
       "    <tr>\n",
       "      <th>2010-01-07</th>\n",
       "      <td>12720</td>\n",
       "      <td>10964600</td>\n",
       "      <td>408386356</td>\n",
       "      <td>23.029852</td>\n",
       "      <td>23.104242</td>\n",
       "      <td>22.980259</td>\n",
       "      <td>23.215826</td>\n",
       "      <td>23.091843</td>\n",
       "      <td>-0.009333</td>\n",
       "      <td>NaN</td>\n",
       "      <td>NaN</td>\n",
       "      <td>NaN</td>\n",
       "      <td>NaN</td>\n",
       "      <td>NaN</td>\n",
       "      <td>NaN</td>\n",
       "      <td>0.210526</td>\n",
       "    </tr>\n",
       "    <tr>\n",
       "      <th>2010-01-08</th>\n",
       "      <td>14192</td>\n",
       "      <td>14624200</td>\n",
       "      <td>542061948</td>\n",
       "      <td>22.905869</td>\n",
       "      <td>23.036051</td>\n",
       "      <td>22.850076</td>\n",
       "      <td>23.178631</td>\n",
       "      <td>22.980259</td>\n",
       "      <td>-0.005384</td>\n",
       "      <td>NaN</td>\n",
       "      <td>NaN</td>\n",
       "      <td>NaN</td>\n",
       "      <td>NaN</td>\n",
       "      <td>NaN</td>\n",
       "      <td>NaN</td>\n",
       "      <td>0.169811</td>\n",
       "    </tr>\n",
       "  </tbody>\n",
       "</table>\n",
       "</div>"
      ],
      "text/plain": [
       "            Q Negs    Q Títs     Volume  Fechamento   Abertura     Mínimo  \\\n",
       "Data                                                                        \n",
       "2010-01-04   13531  13303600  493660216   23.135237  22.905869  22.825280   \n",
       "2010-01-05   22782  21396400  794327759   22.936865  23.172432  22.812881   \n",
       "2010-01-06   18647  18720600  697345692   23.246822  22.812881  22.812881   \n",
       "2010-01-07   12720  10964600  408386356   23.029852  23.104242  22.980259   \n",
       "2010-01-08   14192  14624200  542061948   22.905869  23.036051  22.850076   \n",
       "\n",
       "               Máximo      Médio  Retornos  Kama  ROC  RSI  Stoch  \\\n",
       "Data                                                                \n",
       "2010-01-04  23.135237  23.005055       NaN   NaN  NaN  NaN    NaN   \n",
       "2010-01-05  23.203428  23.011254 -0.008574   NaN  NaN  NaN    NaN   \n",
       "2010-01-06  23.246822  23.091843  0.013514   NaN  NaN  NaN    NaN   \n",
       "2010-01-07  23.215826  23.091843 -0.009333   NaN  NaN  NaN    NaN   \n",
       "2010-01-08  23.178631  22.980259 -0.005384   NaN  NaN  NaN    NaN   \n",
       "\n",
       "            Chaikin_money  Force_index    Normal  \n",
       "Data                                              \n",
       "2010-01-04            NaN          NaN  1.000000  \n",
       "2010-01-05            NaN          NaN  0.317460  \n",
       "2010-01-06            NaN          NaN  1.000000  \n",
       "2010-01-07            NaN          NaN  0.210526  \n",
       "2010-01-08            NaN          NaN  0.169811  "
      ]
     },
     "execution_count": 139,
     "metadata": {},
     "output_type": "execute_result"
    }
   ],
   "source": [
    "df.head()"
   ]
  },
  {
   "cell_type": "markdown",
   "metadata": {},
   "source": [
    "### Tratando os dados"
   ]
  },
  {
   "cell_type": "code",
   "execution_count": 140,
   "metadata": {},
   "outputs": [],
   "source": [
    "df = df.dropna() ## excluindo valores nulos\n",
    "X = df[['Q Negs', 'Q Títs', 'Volume', 'Fechamento', 'Abertura', 'Mínimo', 'Máximo', 'Médio', 'Kama', 'ROC', 'RSI', 'Stoch', 'Chaikin_money', 'Force_index', 'Normal']] ## criando as features\n",
    "y = np.where(df['Fechamento'].shift(-1) > df['Fechamento'], 1, -1) ## criando target"
   ]
  },
  {
   "cell_type": "code",
   "execution_count": 141,
   "metadata": {},
   "outputs": [],
   "source": [
    "X_train, X_test, y_train, y_test = train_test_split(X, y, test_size=0.2, shuffle=False)"
   ]
  },
  {
   "cell_type": "markdown",
   "metadata": {},
   "source": [
    "### Criando o pipeline com os modelos"
   ]
  },
  {
   "cell_type": "code",
   "execution_count": 142,
   "metadata": {},
   "outputs": [],
   "source": [
    "#scaler = StandardScaler()\n",
    "dt = DecisionTreeClassifier()\n",
    "pipeline = Pipeline(steps=[\n",
    "                    ('Decision_Tree', dt)])\n",
    "                    \n",
    "criterion = [\"gini\", 'entropy']\n",
    "max_depth = [2, 4, 6, 8, 10]\n",
    "random_state = [3, 4]\n"
   ]
  },
  {
   "cell_type": "code",
   "execution_count": 143,
   "metadata": {},
   "outputs": [
    {
     "data": {
      "text/plain": [
       "{'Decision_Tree__criterion': ['gini', 'entropy'],\n",
       " 'Decision_Tree__max_depth': [2, 4, 6, 8, 10],\n",
       " 'Decision_Tree__random_state': [3, 4]}"
      ]
     },
     "execution_count": 143,
     "metadata": {},
     "output_type": "execute_result"
    }
   ],
   "source": [
    "### Criando parametros para comparação \n",
    "parameters = dict(Decision_Tree__criterion=criterion, \n",
    "                    Decision_Tree__max_depth=max_depth,\n",
    "                    Decision_Tree__random_state=random_state)\n",
    "parameters"
   ]
  },
  {
   "cell_type": "markdown",
   "metadata": {},
   "source": [
    "### Rodando modelo"
   ]
  },
  {
   "cell_type": "code",
   "execution_count": 145,
   "metadata": {},
   "outputs": [
    {
     "data": {
      "text/plain": [
       "GridSearchCV(cv=5,\n",
       "             estimator=Pipeline(steps=[('Decision_Tree',\n",
       "                                        DecisionTreeClassifier())]),\n",
       "             param_grid={'Decision_Tree__criterion': ['gini', 'entropy'],\n",
       "                         'Decision_Tree__max_depth': [2, 4, 6, 8, 10],\n",
       "                         'Decision_Tree__random_state': [3, 4]},\n",
       "             scoring='accuracy')"
      ]
     },
     "execution_count": 145,
     "metadata": {},
     "output_type": "execute_result"
    }
   ],
   "source": [
    "clf_GS = GridSearchCV(pipeline, param_grid=parameters, scoring='accuracy', cv=5)\n",
    "clf_GS.fit(X_train, y_train)"
   ]
  },
  {
   "cell_type": "code",
   "execution_count": 146,
   "metadata": {},
   "outputs": [
    {
     "data": {
      "text/plain": [
       "{'Decision_Tree__criterion': 'gini',\n",
       " 'Decision_Tree__max_depth': 6,\n",
       " 'Decision_Tree__random_state': 3}"
      ]
     },
     "execution_count": 146,
     "metadata": {},
     "output_type": "execute_result"
    }
   ],
   "source": [
    "clf_GS.best_params_"
   ]
  },
  {
   "cell_type": "code",
   "execution_count": 147,
   "metadata": {},
   "outputs": [
    {
     "data": {
      "text/plain": [
       "0.6106048053024027"
      ]
     },
     "execution_count": 147,
     "metadata": {},
     "output_type": "execute_result"
    }
   ],
   "source": [
    "clf_GS.score(X_train, y_train)"
   ]
  },
  {
   "cell_type": "code",
   "execution_count": 148,
   "metadata": {},
   "outputs": [],
   "source": [
    "y_predic = clf_GS.predict(X_test)"
   ]
  },
  {
   "cell_type": "code",
   "execution_count": 149,
   "metadata": {},
   "outputs": [
    {
     "data": {
      "text/plain": [
       "0.5082781456953642"
      ]
     },
     "execution_count": 149,
     "metadata": {},
     "output_type": "execute_result"
    }
   ],
   "source": [
    "accuracy = accuracy_score(y_test, y_predic)\n",
    "accuracy"
   ]
  },
  {
   "cell_type": "code",
   "execution_count": 150,
   "metadata": {},
   "outputs": [
    {
     "name": "stdout",
     "output_type": "stream",
     "text": [
      "              precision    recall  f1-score   support\n",
      "\n",
      "          -1       0.50      0.38      0.43       298\n",
      "           1       0.51      0.63      0.57       306\n",
      "\n",
      "    accuracy                           0.51       604\n",
      "   macro avg       0.51      0.51      0.50       604\n",
      "weighted avg       0.51      0.51      0.50       604\n",
      "\n"
     ]
    }
   ],
   "source": [
    "report = classification_report(y_test, clf_GS.predict(X_test))\n",
    "print(report)"
   ]
  },
  {
   "cell_type": "code",
   "execution_count": 151,
   "metadata": {},
   "outputs": [],
   "source": [
    "df['Strategy_returns'] = df['Retornos'].shift(-1) * clf_GS.predict(X)"
   ]
  },
  {
   "cell_type": "code",
   "execution_count": 152,
   "metadata": {},
   "outputs": [
    {
     "data": {
      "image/png": "[encoded data removed]",
      "text/plain": [
       "<Figure size 1080x576 with 1 Axes>"
      ]
     },
     "metadata": {
      "needs_background": "light"
     },
     "output_type": "display_data"
    }
   ],
   "source": [
    "plt.figure(figsize=(15, 8))\n",
    "(df['Strategy_returns'][X_train.shape[0]:]+1).cumprod().plot()\n",
    "plt.ylabel('Strategy returns (%)')\n",
    "plt.show()"
   ]
  },
  {
   "cell_type": "code",
   "execution_count": null,
   "metadata": {},
   "outputs": [],
   "source": []
  }
 ],
 "metadata": {
  "interpreter": {
   "hash": "79f598cbb7f916b2cb6b6e41cfdf827349ce7d90d964934c12ee72c4312855ab"
  },
  "kernelspec": {
   "display_name": "Python 3.10.1 64-bit",
   "language": "python",
   "name": "python3"
  },
  "language_info": {
   "codemirror_mode": {
    "name": "ipython",
    "version": 3
   },
   "file_extension": ".py",
   "mimetype": "text/x-python",
   "name": "python",
   "nbconvert_exporter": "python",
   "pygments_lexer": "ipython3",
   "version": "3.10.1"
  },
  "orig_nbformat": 4
 },
 "nbformat": 4,
 "nbformat_minor": 2
}
